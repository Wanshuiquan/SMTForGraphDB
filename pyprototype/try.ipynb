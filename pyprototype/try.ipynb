{
 "cells": [
  {
   "cell_type": "code",
   "execution_count": 13,
   "metadata": {},
   "outputs": [
    {
     "data": {
      "text/plain": [
       "0.5"
      ]
     },
     "execution_count": 13,
     "metadata": {},
     "output_type": "execute_result"
    }
   ],
   "source": [
    "from z3 import *\n",
    "a =  Bool(\"a\")\n",
    "b =  Bool(\"b\")\n",
    "c =  Bool(\"c\")\n",
    "\n",
    "d = Real('d')\n",
    "e = Real('e')\n",
    "solver = Optimize()\n",
    "solver.add(d < 100.3)\n",
    "solver.add(d >= 0.5)\n",
    "solver.minimize(d)\n",
    "solver.minimize(e)\n",
    "solver.check()\n",
    "f = solver.model()\n",
    "float(f.evaluate(d).as_decimal(3))\n"
   ]
  }
 ],
 "metadata": {
  "kernelspec": {
   "display_name": "Python 3",
   "language": "python",
   "name": "python3"
  },
  "language_info": {
   "codemirror_mode": {
    "name": "ipython",
    "version": 3
   },
   "file_extension": ".py",
   "mimetype": "text/x-python",
   "name": "python",
   "nbconvert_exporter": "python",
   "pygments_lexer": "ipython3",
   "version": "3.10.12"
  }
 },
 "nbformat": 4,
 "nbformat_minor": 2
}
