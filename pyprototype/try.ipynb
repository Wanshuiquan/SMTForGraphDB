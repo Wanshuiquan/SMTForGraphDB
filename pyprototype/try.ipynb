{
 "cells": [
  {
   "cell_type": "code",
   "execution_count": null,
   "metadata": {},
   "outputs": [],
   "source": [
    "from z3 import *\n",
    "a =  Bool(\"a\")\n",
    "b =  Bool(\"b\")\n",
    "c =  Bool(\"c\")\n",
    "And([a,b,c])"
   ]
  }
 ],
 "metadata": {
  "language_info": {
   "name": "python"
  }
 },
 "nbformat": 4,
 "nbformat_minor": 2
}
