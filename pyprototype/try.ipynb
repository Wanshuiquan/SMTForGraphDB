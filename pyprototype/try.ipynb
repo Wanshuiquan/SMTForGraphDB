{
 "cells": [
  {
   "cell_type": "code",
   "execution_count": 4,
   "metadata": {},
   "outputs": [
    {
     "data": {
      "text/html": [
       "[age = -1, p1 = 19]"
      ],
      "text/plain": [
       "[age = -1, p1 = 19]"
      ]
     },
     "execution_count": 4,
     "metadata": {},
     "output_type": "execute_result"
    }
   ],
   "source": [
    "from z3 import *\n",
    "p1 = Real(\"p1\")\n",
    "age = Real(\"age\")\n",
    "solver = Optimize()\n",
    "solver.maximize(p1)\n",
    "solver.maximize(age)\n",
    "solver.add(And (p1 > ToReal(IntVal(10)), p1 < ToReal(IntVal(20))) )\n",
    "solver.add(And (age >= -10000, age <= 10000) )\n",
    "\n",
    "# solver.add(p1 > ToReal(IntVal(2)))\n",
    "# solver.minimize(p1)\n",
    "solver.check()\n",
    "solver.model()\n"
   ]
  },
  {
   "cell_type": "code",
   "execution_count": 48,
   "metadata": {},
   "outputs": [
    {
     "data": {
      "text/plain": [
       "14.37722586659061"
      ]
     },
     "execution_count": 48,
     "metadata": {},
     "output_type": "execute_result"
    }
   ],
   "source": [
    "import random\n",
    "import time  \n",
    "def generate_real_attribute():\n",
    "    random.seed(time.clock_gettime_ns(time.CLOCK_THREAD_CPUTIME_ID))\n",
    "    return random.random() * random.random() * 100\n",
    "\n",
    "generate_real_attribute()"
   ]
  }
 ],
 "metadata": {
  "kernelspec": {
   "display_name": "Python 3",
   "language": "python",
   "name": "python3"
  },
  "language_info": {
   "codemirror_mode": {
    "name": "ipython",
    "version": 3
   },
   "file_extension": ".py",
   "mimetype": "text/x-python",
   "name": "python",
   "nbconvert_exporter": "python",
   "pygments_lexer": "ipython3",
   "version": "3.10.12"
  }
 },
 "nbformat": 4,
 "nbformat_minor": 2
}
