{
 "cells": [
  {
   "cell_type": "code",
   "execution_count": 15,
   "metadata": {},
   "outputs": [
    {
     "data": {
      "text/html": [
       "[p1 = 3]"
      ],
      "text/plain": [
       "[p1 = 3]"
      ]
     },
     "execution_count": 15,
     "metadata": {},
     "output_type": "execute_result"
    }
   ],
   "source": [
    "from z3 import *\n",
    "p1 = Real(\"p1\")\n",
    "age = Real(\"age\")\n",
    "solver = Optimize()\n",
    "# solver.maximize(p1)\n",
    "# solver.maximize(age)\n",
    "solver.add(And (p1 > -29, p1 < 29) )\n",
    "# solver.add(And (age >= -29, age <= 29) )\n",
    "\n",
    "solver.add(p1 > ToReal(IntVal(2)))\n",
    "solver.maximize(p1)\n",
    "solver.check()\n",
    "solver.model()\n"
   ]
  },
  {
   "cell_type": "code",
   "execution_count": 48,
   "metadata": {},
   "outputs": [
    {
     "data": {
      "text/plain": [
       "14.37722586659061"
      ]
     },
     "execution_count": 48,
     "metadata": {},
     "output_type": "execute_result"
    }
   ],
   "source": [
    "import random\n",
    "import time  \n",
    "def generate_real_attribute():\n",
    "    random.seed(time.clock_gettime_ns(time.CLOCK_THREAD_CPUTIME_ID))\n",
    "    return random.random() * random.random() * 100\n",
    "\n",
    "generate_real_attribute()"
   ]
  }
 ],
 "metadata": {
  "kernelspec": {
   "display_name": "Python 3",
   "language": "python",
   "name": "python3"
  },
  "language_info": {
   "codemirror_mode": {
    "name": "ipython",
    "version": 3
   },
   "file_extension": ".py",
   "mimetype": "text/x-python",
   "name": "python",
   "nbconvert_exporter": "python",
   "pygments_lexer": "ipython3",
   "version": "3.10.12"
  }
 },
 "nbformat": 4,
 "nbformat_minor": 2
}
