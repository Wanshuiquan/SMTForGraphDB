{
 "cells": [
  {
   "cell_type": "code",
   "execution_count": 1,
   "metadata": {},
   "outputs": [
    {
     "name": "stdout",
     "output_type": "stream",
     "text": [
      "From: 1, To: 1, Formula: (assert(and (> age p1)(> p1 10)))\n",
      "From: 1, To: 2, Formula: (assert(> p1 10))\n",
      "[And(30 > p1, p1 > ToReal(10))]\n",
      "[And(p1 <= 29, p1 >= 11), And(25 > p1, p1 > ToReal(10))]\n",
      "[And(p1 <= 24, p1 >= 11), p1 > ToReal(10)]\n"
     ]
    },
    {
     "data": {
      "text/plain": [
       "[('p1', 11.0, 24.0)]"
      ]
     },
     "execution_count": 1,
     "metadata": {},
     "output_type": "execute_result"
    }
   ],
   "source": [
    "from util import parse_json_file, query_with_macro_state, naive_query\n",
    "file_path = 'example1.json'  # Path to your JSON file\n",
    "\n",
    "    # Parse JSON file\n",
    "parsed_graph, parsed_attributes, parsed_automaton, global_vars = parse_json_file(file_path)\n",
    "query_with_macro_state(parsed_graph, parsed_attributes, parsed_automaton, 1, 1, global_vars)\n",
    "# naive_query(parsed_automaton,parsed_graph, global_vars,1,1,parsed_attributes)"
   ]
  },
  {
   "cell_type": "code",
   "execution_count": 93,
   "metadata": {},
   "outputs": [
    {
     "data": {
      "text/plain": [
       "z3.z3.RatNumRef"
      ]
     },
     "execution_count": 93,
     "metadata": {},
     "output_type": "execute_result"
    }
   ],
   "source": [
    "from z3 import *\n",
    "a = Real(\"a\")\n",
    "b = Real(\"b\")\n",
    "solver = Optimize()\n",
    "solver.add(a>1.0)\n",
    "h = solver.minimize(a)\n",
    "solver.check()\n",
    "a:z3.ArithRef = solver.lower(h)\n",
    "EPSILON = a.children()[1]\n",
    "val = z3.substitute(a, (z3.Const(\"epsilon\", RealSort()), RealVal(0.0001)) )\n",
    "z3.simplify(val)"
   ]
  },
  {
   "cell_type": "code",
   "execution_count": 48,
   "metadata": {},
   "outputs": [
    {
     "data": {
      "text/plain": [
       "14.37722586659061"
      ]
     },
     "execution_count": 48,
     "metadata": {},
     "output_type": "execute_result"
    }
   ],
   "source": [
    "import random\n",
    "import time  \n",
    "def generate_real_attribute():\n",
    "    random.seed(time.clock_gettime_ns(time.CLOCK_THREAD_CPUTIME_ID))\n",
    "    return random.random() * random.random() * 100\n",
    "\n",
    "generate_real_attribute()"
   ]
  }
 ],
 "metadata": {
  "kernelspec": {
   "display_name": "Python 3",
   "language": "python",
   "name": "python3"
  },
  "language_info": {
   "codemirror_mode": {
    "name": "ipython",
    "version": 3
   },
   "file_extension": ".py",
   "mimetype": "text/x-python",
   "name": "python",
   "nbconvert_exporter": "python",
   "pygments_lexer": "ipython3",
   "version": "3.10.12"
  }
 },
 "nbformat": 4,
 "nbformat_minor": 2
}
