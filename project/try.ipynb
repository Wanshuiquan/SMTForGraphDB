{
 "cells": [
  {
   "cell_type": "markdown",
   "metadata": {},
   "source": [
    "1. Input: a labeled - nfa, a start node \n",
    "   Output: finds all end points t, such that there exists a path in the graph sat the automaton  \n",
    "\n",
    "2. We can have all paths by a query from the data base \n",
    "3. Based on our algos "
   ]
  },
  {
   "cell_type": "code",
   "execution_count": 1,
   "metadata": {},
   "outputs": [
    {
     "name": "stdout",
     "output_type": "stream",
     "text": [
      "Initializing server...\n",
      "-------------------------------------\n",
      "Catalog:\n",
      "  identifiable nodes count: 100100\n",
      "  anonymous nodes count:    0\n",
      "  connections count:        500000\n",
      "  label count:              200060\n",
      "  properties count:         1649803\n",
      "  distinct labels:          100\n",
      "  distinct from's:          99346\n",
      "  distinct to's:            99343\n",
      "  distinct type's:          100\n",
      "  distinct keys:            498\n",
      "  equal_from_to_count:      4\n",
      "  equal_from_type_count:    0\n",
      "  equal_to_type_count:      0\n",
      "  equal_from_to_type_count: 0\n",
      "-------------------------------------\n",
      "MillenniumDB Server running on port 8080\n",
      "To terminate press CTRL-C\n"
     ]
    }
   ],
   "source": [
    "from launch_db import *\n",
    "build_db(\n",
    "    \"$MDB_HOME/data/try.mdb\",\n",
    "    \"MDB_HOME/data/try\"\n",
    ")"
   ]
  },
  {
   "cell_type": "code",
   "execution_count": 2,
   "metadata": {},
   "outputs": [],
   "source": [
    "\n",
    "import json\n",
    "import sys\n",
    "\n",
    "from SPARQLWrapper import SPARQLWrapper\n",
    "from SPARQLWrapper.SPARQLExceptions import QueryBadFormed\n",
    "query = \"\"\"\n",
    "MATCH (N1) -[e1]->(?x)\n",
    "\"\"\"\n",
    "sparql = SPARQLWrapper(\"http://localhost:8080/mql\")\n",
    "sparql.setMethod(\"POST\")\n",
    "sparql.setRequestMethod(\"postdirectly\")\n",
    "sparql.setQuery(query)\n",
    "sparql.setReturnFormat(\"json\")\n",
    "response = sparql.queryAndConvert()"
   ]
  }
 ],
 "metadata": {
  "kernelspec": {
   "display_name": "Python 3",
   "language": "python",
   "name": "python3"
  },
  "language_info": {
   "codemirror_mode": {
    "name": "ipython",
    "version": 3
   },
   "file_extension": ".py",
   "mimetype": "text/x-python",
   "name": "python",
   "nbconvert_exporter": "python",
   "pygments_lexer": "ipython3",
   "version": "3.10.12"
  }
 },
 "nbformat": 4,
 "nbformat_minor": 2
}
